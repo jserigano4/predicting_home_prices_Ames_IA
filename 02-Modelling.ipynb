{
 "cells": [
  {
   "cell_type": "markdown",
   "id": "8e8ec9cc-dc19-4d07-a568-1a692b59e561",
   "metadata": {},
   "source": [
    "# Project 2: Ames Housing Data \n",
    "### Notebook 02 - Class Kaggle competition modeling \n",
    "\n",
    "\n",
    "_Author: Joe Serigano (jserigano4@gmail.com)_\n",
    "\n",
    "---\n",
    "\n",
    "**Objectives:**\n",
    "- Use cleaned data sets (from notebook 01) to create a linear regression model that predicts home prices in Ames, Iowa with the lowest possible RMSE.\n",
    "- Create linear regression models using Ridge, Lasso, and ElasticNet"
   ]
  },
  {
   "cell_type": "code",
   "execution_count": 1,
   "id": "02b28574-0fff-4efb-a451-782c962f65e4",
   "metadata": {},
   "outputs": [],
   "source": [
    "#Importing relevant modules\n",
    "\n",
    "import pandas as pd\n",
    "import numpy as np\n",
    "import seaborn as sns\n",
    "import matplotlib.pyplot as plt\n",
    "from scipy import stats\n",
    "from sklearn import metrics\n",
    "\n",
    "from sklearn.model_selection import train_test_split, cross_val_score, GridSearchCV\n",
    "from sklearn.preprocessing import StandardScaler\n",
    "from sklearn.linear_model import LinearRegression\n",
    "from sklearn.linear_model import RidgeCV\n",
    "from sklearn.linear_model import LassoCV\n",
    "from sklearn.linear_model import ElasticNetCV\n",
    "\n",
    "import warnings\n",
    "warnings.simplefilter(\"ignore\")"
   ]
  },
  {
   "cell_type": "code",
   "execution_count": 2,
   "id": "f7b2efa3-0cd3-47a8-8586-aec85330e92a",
   "metadata": {},
   "outputs": [],
   "source": [
    "# Reading in our cleaned training data and our test data that will be used for the class kaggle competition\n",
    "train = pd.read_csv('datasets/train_cleaned.csv')\n",
    "test = pd.read_csv('datasets/test_cleaned.csv')\n",
    "\n",
    "train = train.drop(columns = ['Unnamed: 0'])\n",
    "test = test.drop(columns = ['Unnamed: 0'])\n",
    "\n",
    "# Setting up our X and y from our full training data\n",
    "X = train.drop(columns = ['SalePrice'])\n",
    "y = train['SalePrice']\n",
    "\n",
    "# Splitting our full training data into training and testing sets for model evaluation within this notebook.\n",
    "X_train, X_test, y_train, y_test = train_test_split(X, y, random_state = 42)"
   ]
  },
  {
   "cell_type": "code",
   "execution_count": 3,
   "id": "5f921a91-0d32-4b5b-92dc-b796bd974d02",
   "metadata": {},
   "outputs": [
    {
     "data": {
      "text/html": [
       "<div>\n",
       "<style scoped>\n",
       "    .dataframe tbody tr th:only-of-type {\n",
       "        vertical-align: middle;\n",
       "    }\n",
       "\n",
       "    .dataframe tbody tr th {\n",
       "        vertical-align: top;\n",
       "    }\n",
       "\n",
       "    .dataframe thead th {\n",
       "        text-align: right;\n",
       "    }\n",
       "</style>\n",
       "<table border=\"1\" class=\"dataframe\">\n",
       "  <thead>\n",
       "    <tr style=\"text-align: right;\">\n",
       "      <th></th>\n",
       "      <th>Id</th>\n",
       "      <th>PID</th>\n",
       "      <th>MS SubClass</th>\n",
       "      <th>Lot Frontage</th>\n",
       "      <th>Lot Area</th>\n",
       "      <th>Overall Qual</th>\n",
       "      <th>Overall Cond</th>\n",
       "      <th>Year Built</th>\n",
       "      <th>Year Remod/Add</th>\n",
       "      <th>Mas Vnr Area</th>\n",
       "      <th>...</th>\n",
       "      <th>Misc Feature_TenC</th>\n",
       "      <th>Sale Type_CWD</th>\n",
       "      <th>Sale Type_Con</th>\n",
       "      <th>Sale Type_ConLD</th>\n",
       "      <th>Sale Type_ConLI</th>\n",
       "      <th>Sale Type_ConLw</th>\n",
       "      <th>Sale Type_New</th>\n",
       "      <th>Sale Type_Oth</th>\n",
       "      <th>Sale Type_VWD</th>\n",
       "      <th>Sale Type_WD</th>\n",
       "    </tr>\n",
       "  </thead>\n",
       "  <tbody>\n",
       "    <tr>\n",
       "      <th>0</th>\n",
       "      <td>109</td>\n",
       "      <td>533352170</td>\n",
       "      <td>60</td>\n",
       "      <td>79.5</td>\n",
       "      <td>9.511703</td>\n",
       "      <td>6</td>\n",
       "      <td>8</td>\n",
       "      <td>1976</td>\n",
       "      <td>2005</td>\n",
       "      <td>289.0</td>\n",
       "      <td>...</td>\n",
       "      <td>0</td>\n",
       "      <td>0</td>\n",
       "      <td>0</td>\n",
       "      <td>0</td>\n",
       "      <td>0</td>\n",
       "      <td>0</td>\n",
       "      <td>0</td>\n",
       "      <td>0</td>\n",
       "      <td>0</td>\n",
       "      <td>1</td>\n",
       "    </tr>\n",
       "    <tr>\n",
       "      <th>1</th>\n",
       "      <td>544</td>\n",
       "      <td>531379050</td>\n",
       "      <td>60</td>\n",
       "      <td>43.0</td>\n",
       "      <td>9.349406</td>\n",
       "      <td>7</td>\n",
       "      <td>5</td>\n",
       "      <td>1996</td>\n",
       "      <td>1997</td>\n",
       "      <td>132.0</td>\n",
       "      <td>...</td>\n",
       "      <td>0</td>\n",
       "      <td>0</td>\n",
       "      <td>0</td>\n",
       "      <td>0</td>\n",
       "      <td>0</td>\n",
       "      <td>0</td>\n",
       "      <td>0</td>\n",
       "      <td>0</td>\n",
       "      <td>0</td>\n",
       "      <td>1</td>\n",
       "    </tr>\n",
       "    <tr>\n",
       "      <th>2</th>\n",
       "      <td>153</td>\n",
       "      <td>535304180</td>\n",
       "      <td>20</td>\n",
       "      <td>68.0</td>\n",
       "      <td>8.977399</td>\n",
       "      <td>5</td>\n",
       "      <td>7</td>\n",
       "      <td>1953</td>\n",
       "      <td>2007</td>\n",
       "      <td>0.0</td>\n",
       "      <td>...</td>\n",
       "      <td>0</td>\n",
       "      <td>0</td>\n",
       "      <td>0</td>\n",
       "      <td>0</td>\n",
       "      <td>0</td>\n",
       "      <td>0</td>\n",
       "      <td>0</td>\n",
       "      <td>0</td>\n",
       "      <td>0</td>\n",
       "      <td>1</td>\n",
       "    </tr>\n",
       "    <tr>\n",
       "      <th>3</th>\n",
       "      <td>318</td>\n",
       "      <td>916386060</td>\n",
       "      <td>60</td>\n",
       "      <td>73.0</td>\n",
       "      <td>9.190342</td>\n",
       "      <td>5</td>\n",
       "      <td>5</td>\n",
       "      <td>2006</td>\n",
       "      <td>2007</td>\n",
       "      <td>0.0</td>\n",
       "      <td>...</td>\n",
       "      <td>0</td>\n",
       "      <td>0</td>\n",
       "      <td>0</td>\n",
       "      <td>0</td>\n",
       "      <td>0</td>\n",
       "      <td>0</td>\n",
       "      <td>0</td>\n",
       "      <td>0</td>\n",
       "      <td>0</td>\n",
       "      <td>1</td>\n",
       "    </tr>\n",
       "    <tr>\n",
       "      <th>4</th>\n",
       "      <td>255</td>\n",
       "      <td>906425045</td>\n",
       "      <td>50</td>\n",
       "      <td>82.0</td>\n",
       "      <td>9.563459</td>\n",
       "      <td>6</td>\n",
       "      <td>8</td>\n",
       "      <td>1900</td>\n",
       "      <td>1993</td>\n",
       "      <td>0.0</td>\n",
       "      <td>...</td>\n",
       "      <td>0</td>\n",
       "      <td>0</td>\n",
       "      <td>0</td>\n",
       "      <td>0</td>\n",
       "      <td>0</td>\n",
       "      <td>0</td>\n",
       "      <td>0</td>\n",
       "      <td>0</td>\n",
       "      <td>0</td>\n",
       "      <td>1</td>\n",
       "    </tr>\n",
       "  </tbody>\n",
       "</table>\n",
       "<p>5 rows × 274 columns</p>\n",
       "</div>"
      ],
      "text/plain": [
       "    Id        PID  MS SubClass  Lot Frontage  Lot Area  Overall Qual  \\\n",
       "0  109  533352170           60          79.5  9.511703             6   \n",
       "1  544  531379050           60          43.0  9.349406             7   \n",
       "2  153  535304180           20          68.0  8.977399             5   \n",
       "3  318  916386060           60          73.0  9.190342             5   \n",
       "4  255  906425045           50          82.0  9.563459             6   \n",
       "\n",
       "   Overall Cond  Year Built  Year Remod/Add  Mas Vnr Area  ...  \\\n",
       "0             8        1976            2005         289.0  ...   \n",
       "1             5        1996            1997         132.0  ...   \n",
       "2             7        1953            2007           0.0  ...   \n",
       "3             5        2006            2007           0.0  ...   \n",
       "4             8        1900            1993           0.0  ...   \n",
       "\n",
       "   Misc Feature_TenC  Sale Type_CWD  Sale Type_Con  Sale Type_ConLD  \\\n",
       "0                  0              0              0                0   \n",
       "1                  0              0              0                0   \n",
       "2                  0              0              0                0   \n",
       "3                  0              0              0                0   \n",
       "4                  0              0              0                0   \n",
       "\n",
       "   Sale Type_ConLI  Sale Type_ConLw  Sale Type_New  Sale Type_Oth  \\\n",
       "0                0                0              0              0   \n",
       "1                0                0              0              0   \n",
       "2                0                0              0              0   \n",
       "3                0                0              0              0   \n",
       "4                0                0              0              0   \n",
       "\n",
       "   Sale Type_VWD  Sale Type_WD   \n",
       "0              0              1  \n",
       "1              0              1  \n",
       "2              0              1  \n",
       "3              0              1  \n",
       "4              0              1  \n",
       "\n",
       "[5 rows x 274 columns]"
      ]
     },
     "execution_count": 3,
     "metadata": {},
     "output_type": "execute_result"
    }
   ],
   "source": [
    "train.head()"
   ]
  },
  {
   "cell_type": "markdown",
   "id": "8b25fe29-af35-48d0-aaec-6674be51125f",
   "metadata": {},
   "source": [
    "## Linear Regression model"
   ]
  },
  {
   "cell_type": "code",
   "execution_count": 4,
   "id": "47687aa3-8dd7-42ee-ba08-c095036486da",
   "metadata": {},
   "outputs": [
    {
     "data": {
      "text/plain": [
       "0.9462063735369112"
      ]
     },
     "execution_count": 4,
     "metadata": {},
     "output_type": "execute_result"
    }
   ],
   "source": [
    "# Instantiating and fitting our model\n",
    "lr = LinearRegression()\n",
    "\n",
    "lr.fit(X_train, y_train)\n",
    "lr.score(X_train, y_train)"
   ]
  },
  {
   "cell_type": "code",
   "execution_count": 5,
   "id": "40a5e7c0-383c-4a23-aaa5-c6cf5145d82b",
   "metadata": {},
   "outputs": [
    {
     "name": "stdout",
     "output_type": "stream",
     "text": [
      "Training R2: 0.9462063735369112\n",
      "Testing R2: 0.9013755649129332\n"
     ]
    }
   ],
   "source": [
    "print(f'Training R2: {lr.score(X_train, y_train)}')\n",
    "print(f'Testing R2: {lr.score(X_test, y_test)}')"
   ]
  },
  {
   "cell_type": "markdown",
   "id": "b88d40f7-272d-4893-a25a-cae0c1e22dc6",
   "metadata": {},
   "source": [
    "The R^2 scores above are pretty good! 94.6% of the variance/variability in home sale price in our training data can be explained by the features in our model. 90.1% of variance/variability in our test data set (new data to the model) can be explained. Let's now make predictions and plot our residuals to check for LINE assumptions."
   ]
  },
  {
   "cell_type": "code",
   "execution_count": 6,
   "id": "4d3dfbed-38fd-4afe-a8d0-1e5de995ee04",
   "metadata": {},
   "outputs": [
    {
     "name": "stdout",
     "output_type": "stream",
     "text": [
      "RMSE is:  0.122646834192469\n"
     ]
    }
   ],
   "source": [
    "# Creating predictions and residuals for our testing data\n",
    "preds = lr.predict(X_test)\n",
    "\n",
    "resids = y_test - preds\n",
    "\n",
    "print(\"RMSE is: \", metrics.mean_squared_error(y_test, preds, squared = False))"
   ]
  },
  {
   "cell_type": "markdown",
   "id": "de8e6268-e8f8-445f-b1dc-f975f03bad9a",
   "metadata": {},
   "source": [
    "Our RMSE is 0.12 which is pretty good! We want RMSE to be as close to 0 as possible. Our model is doing a good job at predicting home sale prices."
   ]
  },
  {
   "cell_type": "code",
   "execution_count": 7,
   "id": "fe7f237a-9b86-4794-aa8e-97ded2a15c41",
   "metadata": {},
   "outputs": [
    {
     "data": {
      "image/png": "[encoded data removed]",
      "text/plain": [
       "<Figure size 720x576 with 1 Axes>"
      ]
     },
     "metadata": {
      "needs_background": "light"
     },
     "output_type": "display_data"
    }
   ],
   "source": [
    "fsize = 18\n",
    "\n",
    "plt.figure(figsize = (10,8))\n",
    "plt.scatter(np.exp(preds), resids)\n",
    "plt.axhline(0, color = 'orange');\n",
    "plt.xlabel('Home sale price predictions', fontsize = fsize)\n",
    "plt.ylabel('Residuals', fontsize = fsize)\n",
    "plt.xticks(fontsize = fsize)\n",
    "plt.yticks(fontsize = fsize);"
   ]
  },
  {
   "cell_type": "markdown",
   "id": "558a1789-01f9-4fc5-b8cf-7157f0a7d060",
   "metadata": {},
   "source": [
    "Well, clearly there is one home that was not predicted well... Aside from this home, the residuals of the rest do appear to pass the E test of equal variances."
   ]
  },
  {
   "cell_type": "code",
   "execution_count": 8,
   "id": "1e9ae5a4-d384-4c6b-b5fe-4dfe008ed699",
   "metadata": {},
   "outputs": [
    {
     "data": {
      "image/png": "[encoded data removed]",
      "text/plain": [
       "<Figure size 720x576 with 1 Axes>"
      ]
     },
     "metadata": {
      "needs_background": "light"
     },
     "output_type": "display_data"
    }
   ],
   "source": [
    "plt.figure(figsize = (10,8))\n",
    "plt.hist(resids, bins = 20)\n",
    "plt.xlabel('Residuals', fontsize = fsize)\n",
    "plt.ylabel('# of homes', fontsize = fsize)\n",
    "plt.xticks(fontsize = fsize)\n",
    "plt.yticks(fontsize = fsize);"
   ]
  },
  {
   "cell_type": "markdown",
   "id": "1a622cc3-9992-4381-8c64-78c6fd9b3d47",
   "metadata": {},
   "source": [
    "Again, aside from the one outlier it seems that our model also passes the N test - normality of residuals. "
   ]
  },
  {
   "cell_type": "markdown",
   "id": "23fc4102-a18e-4775-914d-da303b8e65d4",
   "metadata": {},
   "source": [
    "Now, we will create our model predictions to submit for the Kaggle competition:"
   ]
  },
  {
   "cell_type": "code",
   "execution_count": 9,
   "id": "9788b7fb-47ce-43b0-b36c-bccc8e3c4fc2",
   "metadata": {},
   "outputs": [
    {
     "data": {
      "text/html": [
       "<div>\n",
       "<style scoped>\n",
       "    .dataframe tbody tr th:only-of-type {\n",
       "        vertical-align: middle;\n",
       "    }\n",
       "\n",
       "    .dataframe tbody tr th {\n",
       "        vertical-align: top;\n",
       "    }\n",
       "\n",
       "    .dataframe thead th {\n",
       "        text-align: right;\n",
       "    }\n",
       "</style>\n",
       "<table border=\"1\" class=\"dataframe\">\n",
       "  <thead>\n",
       "    <tr style=\"text-align: right;\">\n",
       "      <th></th>\n",
       "      <th>SalePrice</th>\n",
       "    </tr>\n",
       "    <tr>\n",
       "      <th>Id</th>\n",
       "      <th></th>\n",
       "    </tr>\n",
       "  </thead>\n",
       "  <tbody>\n",
       "    <tr>\n",
       "      <th>2658</th>\n",
       "      <td>88712.737605</td>\n",
       "    </tr>\n",
       "    <tr>\n",
       "      <th>2718</th>\n",
       "      <td>150901.316976</td>\n",
       "    </tr>\n",
       "    <tr>\n",
       "      <th>2414</th>\n",
       "      <td>220646.363616</td>\n",
       "    </tr>\n",
       "    <tr>\n",
       "      <th>1989</th>\n",
       "      <td>103028.177501</td>\n",
       "    </tr>\n",
       "    <tr>\n",
       "      <th>625</th>\n",
       "      <td>165415.457647</td>\n",
       "    </tr>\n",
       "  </tbody>\n",
       "</table>\n",
       "</div>"
      ],
      "text/plain": [
       "          SalePrice\n",
       "Id                 \n",
       "2658   88712.737605\n",
       "2718  150901.316976\n",
       "2414  220646.363616\n",
       "1989  103028.177501\n",
       "625   165415.457647"
      ]
     },
     "execution_count": 9,
     "metadata": {},
     "output_type": "execute_result"
    }
   ],
   "source": [
    "# Create predictions\n",
    "preds = lr.predict(test)\n",
    "\n",
    "# back-log transform sale prices\n",
    "test['SalePrice'] = np.exp(preds)\n",
    "\n",
    "# create DataFrame to submit\n",
    "lr_submission = test[['Id', 'SalePrice']]\n",
    "lr_submission.set_index('Id', inplace = True)\n",
    "\n",
    "# Check\n",
    "lr_submission.head()"
   ]
  },
  {
   "cell_type": "code",
   "execution_count": 10,
   "id": "969048e3-e1d5-4fab-ba95-86b7939f2227",
   "metadata": {},
   "outputs": [],
   "source": [
    "# Save\n",
    "lr_submission.to_csv('kaggle_submission_serigano_1.csv')"
   ]
  },
  {
   "cell_type": "markdown",
   "id": "2585ed2d-8fba-4518-a1ae-a405a3cdb1c0",
   "metadata": {},
   "source": [
    "## Ridge Model"
   ]
  },
  {
   "cell_type": "markdown",
   "id": "56d304df-8045-46dd-8d3a-6bae10baffe9",
   "metadata": {},
   "source": [
    "Similar to the linear regression model above, we will create a ridge model and evaluate the model's performance."
   ]
  },
  {
   "cell_type": "code",
   "execution_count": 11,
   "id": "b4d0df07-2d2f-4ae5-b927-03fbd99a85b4",
   "metadata": {},
   "outputs": [
    {
     "data": {
      "text/plain": [
       "RidgeCV(alphas=array([1.00000000e+00, 1.12332403e+00, 1.26185688e+00, 1.41747416e+00,\n",
       "       1.59228279e+00, 1.78864953e+00, 2.00923300e+00, 2.25701972e+00,\n",
       "       2.53536449e+00, 2.84803587e+00, 3.19926714e+00, 3.59381366e+00,\n",
       "       4.03701726e+00, 4.53487851e+00, 5.09413801e+00, 5.72236766e+00,\n",
       "       6.42807312e+00, 7.22080902e+00, 8.11130831e+00, 9.11162756e+00,\n",
       "       1.02353102e+01, 1.14975700e+0...\n",
       "       6.89261210e+03, 7.74263683e+03, 8.69749003e+03, 9.77009957e+03,\n",
       "       1.09749877e+04, 1.23284674e+04, 1.38488637e+04, 1.55567614e+04,\n",
       "       1.74752840e+04, 1.96304065e+04, 2.20513074e+04, 2.47707636e+04,\n",
       "       2.78255940e+04, 3.12571585e+04, 3.51119173e+04, 3.94420606e+04,\n",
       "       4.43062146e+04, 4.97702356e+04, 5.59081018e+04, 6.28029144e+04,\n",
       "       7.05480231e+04, 7.92482898e+04, 8.90215085e+04, 1.00000000e+05]),\n",
       "        cv=5)"
      ]
     },
     "execution_count": 11,
     "metadata": {},
     "output_type": "execute_result"
    }
   ],
   "source": [
    "# Setting up a list of ridge alphas to check.\n",
    "alphas = np.logspace(0, 5, 100)\n",
    "\n",
    "# Cross-validating over our list of ridge alphas.\n",
    "ridge_cv = RidgeCV(alphas = alphas, cv = 5) \n",
    "\n",
    "# Fitting model using best ridge alpha.\n",
    "ridge_cv.fit(X_train, y_train)"
   ]
  },
  {
   "cell_type": "code",
   "execution_count": 12,
   "id": "edbd08b4-a91b-4652-873d-844f799008b4",
   "metadata": {},
   "outputs": [
    {
     "name": "stdout",
     "output_type": "stream",
     "text": [
      "The optimal alpha value is 5.722367659350217\n",
      "Training R2: 0.9378182829842763\n",
      "Testing R2: 0.9312196400757979\n"
     ]
    }
   ],
   "source": [
    "print(f'The optimal alpha value is {ridge_cv.alpha_}')\n",
    "print(f'Training R2: {ridge_cv.score(X_train, y_train)}')\n",
    "print(f'Testing R2: {ridge_cv.score(X_test, y_test)}')"
   ]
  },
  {
   "cell_type": "code",
   "execution_count": 13,
   "id": "09fd2afc-9d62-442c-a52a-47301fff9dbd",
   "metadata": {},
   "outputs": [
    {
     "name": "stdout",
     "output_type": "stream",
     "text": [
      "RMSE is:  0.10242271887428185\n"
     ]
    }
   ],
   "source": [
    "preds = ridge_cv.predict(X_test)\n",
    "print(\"RMSE is: \", metrics.mean_squared_error(y_test, preds, squared = False))"
   ]
  },
  {
   "cell_type": "markdown",
   "id": "aa975a4d-738b-48a3-9ea1-b82610a6db6f",
   "metadata": {},
   "source": [
    "Our Ridge model is outperforming our previous model, with 93.1% of the variance/variability in home sale price in our test being explained by the features in our model. This model also has a lower RMSE.\n",
    "\n",
    "Now, we will create our model predictions to submit for the Kaggle competition:"
   ]
  },
  {
   "cell_type": "code",
   "execution_count": 14,
   "id": "1693d53a-b425-4827-9366-d77b3bb8e88a",
   "metadata": {
    "tags": []
   },
   "outputs": [],
   "source": [
    "test = pd.read_csv('datasets/test_cleaned.csv')\n",
    "test = test.drop(columns = ['Unnamed: 0'])\n",
    "\n",
    "\n",
    "preds = ridge_cv.predict(test)\n",
    "test['SalePrice'] = np.exp(preds)\n",
    "\n",
    "RCV_submission = test[['Id', 'SalePrice']]\n",
    "RCV_submission.set_index('Id', inplace = True)\n",
    "\n",
    "RCV_submission.to_csv('kaggle_submission_serigano_2.csv')"
   ]
  },
  {
   "cell_type": "markdown",
   "id": "e07aa7b0-b391-450f-8be3-368dfab3f7c5",
   "metadata": {},
   "source": [
    "## Lasso Model"
   ]
  },
  {
   "cell_type": "code",
   "execution_count": 15,
   "id": "49501568-9642-4e43-b176-ace104db5738",
   "metadata": {},
   "outputs": [
    {
     "data": {
      "text/plain": [
       "LassoCV(alphas=array([1.00000000e-05, 1.12332403e-05, 1.26185688e-05, 1.41747416e-05,\n",
       "       1.59228279e-05, 1.78864953e-05, 2.00923300e-05, 2.25701972e-05,\n",
       "       2.53536449e-05, 2.84803587e-05, 3.19926714e-05, 3.59381366e-05,\n",
       "       4.03701726e-05, 4.53487851e-05, 5.09413801e-05, 5.72236766e-05,\n",
       "       6.42807312e-05, 7.22080902e-05, 8.11130831e-05, 9.11162756e-05,\n",
       "       1.02353102e-04, 1.14975700e-0...\n",
       "       6.89261210e-02, 7.74263683e-02, 8.69749003e-02, 9.77009957e-02,\n",
       "       1.09749877e-01, 1.23284674e-01, 1.38488637e-01, 1.55567614e-01,\n",
       "       1.74752840e-01, 1.96304065e-01, 2.20513074e-01, 2.47707636e-01,\n",
       "       2.78255940e-01, 3.12571585e-01, 3.51119173e-01, 3.94420606e-01,\n",
       "       4.43062146e-01, 4.97702356e-01, 5.59081018e-01, 6.28029144e-01,\n",
       "       7.05480231e-01, 7.92482898e-01, 8.90215085e-01, 1.00000000e+00]))"
      ]
     },
     "execution_count": 15,
     "metadata": {},
     "output_type": "execute_result"
    }
   ],
   "source": [
    "# Setting up a list of Lasso alphas to check.\n",
    "l_alphas = np.logspace(-5, 0, 100)\n",
    "\n",
    "# Cross-validating over our list of Lasso alphas.\n",
    "lasso_cv = LassoCV(alphas = l_alphas)\n",
    "\n",
    "# Fitting model using best Lasso alpha.\n",
    "lasso_cv.fit(X_train, y_train)"
   ]
  },
  {
   "cell_type": "code",
   "execution_count": 16,
   "id": "a46d1874-7cc5-4427-8da4-791c03821f12",
   "metadata": {},
   "outputs": [
    {
     "name": "stdout",
     "output_type": "stream",
     "text": [
      "The optimal alpha value is 0.0001830738280295368\n",
      "Training R2: 0.9398675885266339\n",
      "Testing R2: 0.9213960955238201\n"
     ]
    }
   ],
   "source": [
    "print(f'The optimal alpha value is {lasso_cv.alpha_}')\n",
    "print(f'Training R2: {lasso_cv.score(X_train, y_train)}')\n",
    "print(f'Testing R2: {lasso_cv.score(X_test, y_test)}')"
   ]
  },
  {
   "cell_type": "code",
   "execution_count": 17,
   "id": "8ba34e8a-1405-464d-ab46-d28cfb7442b5",
   "metadata": {},
   "outputs": [
    {
     "name": "stdout",
     "output_type": "stream",
     "text": [
      "RMSE is:  0.10949294519688126\n"
     ]
    }
   ],
   "source": [
    "preds = lasso_cv.predict(X_test)\n",
    "print(\"RMSE is: \", metrics.mean_squared_error(y_test, preds, squared = False))"
   ]
  },
  {
   "cell_type": "markdown",
   "id": "b1348384-1882-4d17-979d-65e8fca1ccb7",
   "metadata": {},
   "source": [
    "Our Lasso model is outperforming our first model but not performing as well as our Ridge model. 92.1% of the variance/variability in home sale price in our test being explained by the features in our model. This model also has a higher RMSE than the previous model.\n",
    "\n",
    "Now, we will again create our model predictions to submit for the Kaggle competition:"
   ]
  },
  {
   "cell_type": "code",
   "execution_count": 18,
   "id": "39416ac1-bee5-4455-b89a-9ee1692397e3",
   "metadata": {},
   "outputs": [],
   "source": [
    "test = pd.read_csv('datasets/test_cleaned.csv')\n",
    "test = test.drop(columns = ['Unnamed: 0'])\n",
    "\n",
    "\n",
    "preds = lasso_cv.predict(test)\n",
    "test['SalePrice'] = np.exp(preds)\n",
    "\n",
    "LCV_submission = test[['Id', 'SalePrice']]\n",
    "LCV_submission.set_index('Id', inplace = True)\n",
    "\n",
    "LCV_submission.to_csv('kaggle_submission_serigano_3.csv')"
   ]
  },
  {
   "cell_type": "markdown",
   "id": "2781b746-6db4-471b-b7e5-1fb5bd284780",
   "metadata": {},
   "source": [
    "## ElasticNet Model"
   ]
  },
  {
   "cell_type": "markdown",
   "id": "1e6fb805-900d-48f7-8477-0b8f4d56ed11",
   "metadata": {},
   "source": [
    "The ElasticNet model combines the Ridge and Lasso penalties, adding *both* penalties to the loss function. So, we should hopefully be able to outperform all previous models here."
   ]
  },
  {
   "cell_type": "code",
   "execution_count": 19,
   "id": "040eefbe-b447-4575-aba2-8cfe84637d8c",
   "metadata": {},
   "outputs": [
    {
     "name": "stdout",
     "output_type": "stream",
     "text": [
      "0.9390440380271764\n"
     ]
    }
   ],
   "source": [
    "# Settin up a list of alphas to check.\n",
    "enet_alphas = np.logspace(-5, 0, 100)\n",
    "\n",
    "# Setting up our l1 ratio.\n",
    "enet_ratio = 0.5\n",
    "\n",
    "# Instantiating the model.\n",
    "enet_model = ElasticNetCV(alphas=enet_alphas, l1_ratio=enet_ratio, cv=5)\n",
    "\n",
    "# Fitting model using optimal alpha.\n",
    "enet_model = enet_model.fit(X_train, y_train)\n",
    "\n",
    "# Evaluate model.\n",
    "print(enet_model.score(X_train, y_train))"
   ]
  },
  {
   "cell_type": "code",
   "execution_count": 20,
   "id": "8f02a367-e8cc-4086-aa83-a978cefc8a81",
   "metadata": {},
   "outputs": [
    {
     "name": "stdout",
     "output_type": "stream",
     "text": [
      "The optimal alpha value is 0.0003678379771828634\n",
      "Training R2: 0.9390440380271764\n",
      "Testing R2: 0.9280280560011396\n"
     ]
    }
   ],
   "source": [
    "print(f'The optimal alpha value is {enet_model.alpha_}')\n",
    "print(f'Training R2: {enet_model.score(X_train, y_train)}')\n",
    "print(f'Testing R2: {enet_model.score(X_test, y_test)}')"
   ]
  },
  {
   "cell_type": "markdown",
   "id": "3eb9c27a-0b17-449a-b0c9-e771ce1f102c",
   "metadata": {},
   "source": [
    "Our Lasso model is outperforming our first model but not performing as well as our Ridge model. 92.1% of the variance/variability in home sale price in our test being explained by the features in our model.\n",
    "\n",
    "Now, we will again create our model predictions to submit for the Kaggle competition"
   ]
  },
  {
   "cell_type": "code",
   "execution_count": 21,
   "id": "642164d3-3831-4428-860f-560e551e7195",
   "metadata": {},
   "outputs": [
    {
     "name": "stdout",
     "output_type": "stream",
     "text": [
      "RMSE is:  0.1047721111212492\n"
     ]
    }
   ],
   "source": [
    "preds = enet_model.predict(X_test)\n",
    "print(\"RMSE is: \", metrics.mean_squared_error(y_test, preds, squared = False))"
   ]
  },
  {
   "cell_type": "markdown",
   "id": "0f93a8d3-b994-4aa8-b5f4-142ca12402e9",
   "metadata": {},
   "source": [
    "Now, we will again create our model predictions to submit for the Kaggle competition:"
   ]
  },
  {
   "cell_type": "code",
   "execution_count": 22,
   "id": "959cccf3-8702-4fab-b6bb-a2380ad0275e",
   "metadata": {},
   "outputs": [],
   "source": [
    "test = pd.read_csv('datasets/test_cleaned.csv')\n",
    "test = test.drop(columns = ['Unnamed: 0'])\n",
    "\n",
    "\n",
    "preds = enet_model.predict(test)\n",
    "test['SalePrice'] = np.exp(preds)\n",
    "\n",
    "ENet_submission = test[['Id', 'SalePrice']]\n",
    "ENet_submission.set_index('Id', inplace = True)\n",
    "\n",
    "ENet_submission.to_csv('kaggle_submission_serigano_4_dropped.csv')"
   ]
  },
  {
   "cell_type": "markdown",
   "id": "b52dedcf-ea3e-496e-bd12-d19cb71928e3",
   "metadata": {},
   "source": [
    "In the end, our Ridge model performs the best out of all models! It has the highest R^2 score for our test data as well as the lowest RMSE of all models."
   ]
  }
 ],
 "metadata": {
  "kernelspec": {
   "display_name": "Python [conda env:dsi]",
   "language": "python",
   "name": "conda-env-dsi-py"
  },
  "language_info": {
   "codemirror_mode": {
    "name": "ipython",
    "version": 3
   },
   "file_extension": ".py",
   "mimetype": "text/x-python",
   "name": "python",
   "nbconvert_exporter": "python",
   "pygments_lexer": "ipython3",
   "version": "3.9.12"
  }
 },
 "nbformat": 4,
 "nbformat_minor": 5
}
